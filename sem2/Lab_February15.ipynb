{
 "cells": [
  {
   "cell_type": "markdown",
   "metadata": {},
   "source": [
    "# Biophysics Lab - 2/15/2019\n",
    "\n",
    "## Author: Stephanie M. Yan\n",
    "\n",
    "Implement the Needleman-Wunsch alignment algorithm to align the following two sequences, using the HOXD70 scoring matrix and a gap penalty of 300."
   ]
  },
  {
   "cell_type": "code",
   "execution_count": 1,
   "metadata": {},
   "outputs": [],
   "source": [
    "seq1 = 'CATAAACCCTGGCGCGCTCGCGGCCCGGCACTCTTCTGGTCCCCACAGACTCAGAGAGAACCCACCATGGTGCTGTCTCCTGCCGACAAGACCAACGTCAAGGCCGCCTGGGGTAAGGTCGGCGCGCACGCTGGCGAGTATGGTGCGGAGGCCCTGGAGAGGATGTTCCTGTCCTTCCCCACCACCAAGACCTACTTCCCGCACTTCGACCTGAGCCACGGCTCTGCCCAGGTTAAGGGCCACGGCAAGAAGGTGGCCGACGCGCTGACCAACGCCGTGGCGCACGTGGACGACATGCCCAACGCGCTGTCCGCCCTGAGCGACCTGCACGCGCACAAGCTTCGGGTGGACCCGGTCAACTTCAAGCTCCTAAGCCACTGCCTGCTGGTGACCCTGGCCGCCCACCTCCCCGCCGAGTTCACCCCTGCGGTGCACGCCTCCCTGGACAAGTTCCTGGCTTCTGTGAGCACCGTGCTGACCTCCAAATACCGTTAAGCTGGAGCCTCGGTGGCCATGCTTCTTGCCCCTTGGGCCTCCCCCCAGCCCCTCCTCCCCTTCCTGCACCCGTACCCCCGTGGTCTTTGAATAAAGTCTGAGTGGGCGGCAAAAAAAAAAAAAAAAAAAAAA'\n",
    "seq2 = 'GGGGCTGCCAACACAGAGGTGCAACCATGGTGCTGTCCGCTGCTGACAAGAACAACGTCAAGGGCATCTTCACCAAAATCGCCGGCCATGCTGAGGAGTATGGCGCCGAGACCCTGGAAAGGATGTTCACCACCTACCCCCCAACCAAGACCTACTTCCCCCACTTCGATCTGTCACACGGCTCCGCTCAGATCAAGGGGCACGGCAAGAAGGTAGTGGCTGCCTTGATCGAGGCTGCCAACCACATTGATGACATCGCCGGCACCCTCTCCAAGCTCAGCGACCTCCATGCCCACAAGCTCCGCGTGGACCCTGTCAACTTCAAACTCCTGGGCCAATGCTTCCTGGTGGTGGTGGCCATCCACCACCCTGCTGCCCTGACCCCGGAGGTCCATGCTTCCCTGGACAAGTTCTTGTGCGCCGTGGGCACTGTGCTGACCGCCAAGTACCGTTAAGACGGCACGGTGGCTAGAGCTGGGGCCAACCCATCGCCAGCCCTCCGACAGCGAGCAGCCAAATGAGATGAAATAAAATCTGTTGCATTTGTGCTCCAG'"
   ]
  },
  {
   "cell_type": "markdown",
   "metadata": {},
   "source": [
    "## Initialize scoring matrix."
   ]
  },
  {
   "cell_type": "code",
   "execution_count": 2,
   "metadata": {},
   "outputs": [
    {
     "name": "stdout",
     "output_type": "stream",
     "text": [
      "[[      0.    -300.    -600. ... -165600. -165900. -166200.]\n",
      " [   -300.       0.       0. ...       0.       0.       0.]\n",
      " [   -600.       0.       0. ...       0.       0.       0.]\n",
      " ...\n",
      " [-187500.       0.       0. ...       0.       0.       0.]\n",
      " [-187800.       0.       0. ...       0.       0.       0.]\n",
      " [-188100.       0.       0. ...       0.       0.       0.]]\n"
     ]
    }
   ],
   "source": [
    "import numpy as np\n",
    "\n",
    "rows = len(seq1) + 1\n",
    "cols = len(seq2) + 1\n",
    "\n",
    "F = np.zeros((rows,cols))\n",
    "T = np.zeros((rows,cols))\n",
    "\n",
    "# gap penalty\n",
    "delt = 300\n",
    "\n",
    "# initialize matriz\n",
    "irows = 1\n",
    "icols = 1\n",
    "\n",
    "while icols < cols:\n",
    "    F[0,icols] = F[0, icols-1] - delt\n",
    "    icols += 1\n",
    "while irows < rows:\n",
    "    F[irows,0] = F[irows-1, 0] - delt\n",
    "    irows += 1\n",
    "    \n",
    "print(F)"
   ]
  },
  {
   "cell_type": "markdown",
   "metadata": {},
   "source": [
    "## Fill in scoring matrix for the two sequences, using the given sigma matrix and gap penalty. Record optimal path in a traceback matrix."
   ]
  },
  {
   "cell_type": "code",
   "execution_count": 3,
   "metadata": {},
   "outputs": [
    {
     "name": "stdout",
     "output_type": "stream",
     "text": [
      "[[ 0.00000e+00 -3.00000e+02 -6.00000e+02 ... -1.65600e+05 -1.65900e+05\n",
      "  -1.66200e+05]\n",
      " [-3.00000e+02 -1.25000e+02 -4.25000e+02 ... -1.65200e+05 -1.65500e+05\n",
      "  -1.65800e+05]\n",
      " [-6.00000e+02 -3.31000e+02 -1.56000e+02 ... -1.64809e+05 -1.65109e+05\n",
      "  -1.65409e+05]\n",
      " ...\n",
      " [-1.87500e+05 -1.87100e+05 -1.86700e+05 ...  4.10900e+03  4.50000e+03\n",
      "   4.76900e+03]\n",
      " [-1.87800e+05 -1.87400e+05 -1.87000e+05 ...  3.80900e+03  4.20000e+03\n",
      "   4.46900e+03]\n",
      " [-1.88100e+05 -1.87700e+05 -1.87300e+05 ...  3.50900e+03  3.90000e+03\n",
      "   4.16900e+03]]\n",
      "[[0. 0. 0. ... 0. 0. 0.]\n",
      " [0. 3. 2. ... 2. 2. 2.]\n",
      " [0. 3. 3. ... 2. 2. 2.]\n",
      " ...\n",
      " [0. 1. 1. ... 1. 1. 1.]\n",
      " [0. 1. 1. ... 1. 1. 1.]\n",
      " [0. 1. 1. ... 1. 1. 1.]]\n"
     ]
    }
   ],
   "source": [
    "icols = 1\n",
    "irows = 1\n",
    "\n",
    "# HoxD70 alignment scoring matrix (Chiaromonte, Yap, Miller 2002)\n",
    "#                     A     C     G     T\n",
    "sig = np.array ( [ [  91, -114,  -31, -123 ],\n",
    "                  [ -114,  100, -125,  -31 ],\n",
    "                  [  -31, -125,  100, -114 ],\n",
    "                  [ -123,  -31, -114,   91 ] ] )\n",
    "\n",
    "# dictionary for matching up nucleotide with row/column of scoring matrix\n",
    "sigdict = { 'A' : 0,\n",
    "            'C' : 1,\n",
    "            'G' : 2,\n",
    "            'T' : 3 }\n",
    "\n",
    "# define function to calculate sigma score for an 'align' step\n",
    "def calc_sig(seq1_nuc, seq2_nuc):\n",
    "    rowid = sigdict[seq1_nuc]\n",
    "    colid = sigdict[seq2_nuc]\n",
    "    return(sig[rowid, colid])\n",
    "\n",
    "# iterate through matrix, calculating the alignment score and tracing path at each step\n",
    "while irows < rows:\n",
    "    \n",
    "    while icols < cols:\n",
    "        vert = F[irows-1, icols] - delt # score for moving vertically\n",
    "        hor = F[irows, icols-1] - delt # score for moving horizontally\n",
    "        diag = F[irows-1, icols-1] + calc_sig(seq1[irows-1], seq2[icols-1]) # score for aligning\n",
    "        F[irows,icols] = max(vert,hor,diag) # max score = direction of movement\n",
    "                \n",
    "        # record path in T matrix\n",
    "        if F[irows,icols] == vert:\n",
    "            T[irows,icols] = 1\n",
    "        elif F[irows,icols] == hor:\n",
    "            T[irows,icols] = 2\n",
    "        elif F[irows,icols] ==diag:\n",
    "            T[irows,icols] = 3\n",
    "        \n",
    "        icols += 1\n",
    "        \n",
    "    irows += 1\n",
    "    icols = 1\n",
    "\n",
    "print(F)\n",
    "print(T)"
   ]
  },
  {
   "cell_type": "markdown",
   "metadata": {},
   "source": [
    "## Go through the traceback matrix to print out the aligned sequences."
   ]
  },
  {
   "cell_type": "code",
   "execution_count": 5,
   "metadata": {},
   "outputs": [
    {
     "name": "stdout",
     "output_type": "stream",
     "text": [
      "----------GG-G-GCT-GC--C--A--AC-------------ACAGA----G-GTG--CA-ACCATGGTGCTGTCCGCTGCTGACAAGAACAACGTCAAGGGCATCTTCACCAAAATCGCCGGCCATGCTGAGGAGTATGGCGCCGAGACCCTGGAAAGGATGTTCACCACCTACCCCCCAACCAAGACCTACTTCCCCCACTTCGATCTGTCACACGGCTCCGCTCAGATCAAGGGGCACGGCAAGAAGGTAGTGGCTGCCTTGATCGAGGCTGCCAACCACATTGATGACATCGCCGGCACCCTCTCCAAGCTCAGCGACCTCCATGCCCACAAGCTCCGCGTGGACCCTGTCAACTTCAAACTCCTGGGCCAATGCTTCCTGGTGGTGGTGGCCATCCACCACCCTGCTGCCCTGACCCCGGAGGTCCATGCTTCCCTGGACAAGTTCTTGTGCGCCGTGGGCACTGTGCTGACCGCCAAGTACCGTTAAGACGG--CA-CGGTGGCTA-GAG-CTGGGGCC--AA-CCCATCGCCAGCCC-TCCGACA-G-C--G-A---GCAGCCAAATGAGATG-AAATAAAATCTG--T---TG-CATTTGTGCTCCAG---------\n",
      "CATAAACCCTGGCGCGCTCGCGGCCCGGCACTCTTCTGGTCCCCACAGACTCAGAGAGAACCCACCATGGTGCTGTCTCCTGCCGACAAGACCAACGTCAAGGCCGCCTGGGGTAAGGTCGGCGCGCACGCTGGCGAGTATGGTGCGGAGGCCCTGGAGAGGATGTTCCTGTCCTTCCCCACCACCAAGACCTACTTCCCGCACTTCGACCTGAGCCACGGCTCTGCCCAGGTTAAGGGCCACGGCAAGAAGGTGGCCGACGCGCTGACCAACGCCGTGGCGCACGTGGACGACATGCCCAACGCGCTGTCCGCCCTGAGCGACCTGCACGCGCACAAGCTTCGGGTGGACCCGGTCAACTTCAAGCTCCTAAGCCACTGCCTGCTGGTGACCCTGGCCGCCCACCTCCCCGCCGAGTTCACCCCTGCGGTGCACGCCTCCCTGGACAAGTTCCTGGCTTCTGTGAGCACCGTGCTGACCTCCAAATACCGTTAAGCTGGAGCCTCGGTGGCCATGCTTCTTGCCCCTTGGGCCTCCCCCCAGCCCCTCCTCCCCTTCCTGCACCCGTACCCCCGTGGTCTTTGAATAAAGTCTGAGTGGGCGGCAAAAAAAAAAAAAAAAAAAAAA\n",
      "Alignment score: 4169.0\n"
     ]
    }
   ],
   "source": [
    "irows = len(seq1)\n",
    "icols = len(seq2)\n",
    "\n",
    "# record nucleotide alignment for each sequence\n",
    "align1 = ''\n",
    "align2 = ''\n",
    "\n",
    "# trace back through path matrix to align sequences\n",
    "while irows > 0 or icols > 0:\n",
    "    # if you go vertical\n",
    "    if T[irows,icols] == 1:\n",
    "        align1 = \"-\" + align1\n",
    "        align2 = seq1[irows-1] + align2\n",
    "        irows -= 1\n",
    "        \n",
    "    # if you go horizontal\n",
    "    elif T[irows,icols] == 2:\n",
    "        align1 = seq2[icols-1] + align1\n",
    "        align2 = \"-\" + align2\n",
    "        icols -= 1\n",
    "    \n",
    "    # if you go diagonal\n",
    "    elif T[irows,icols] == 3:\n",
    "        align1 = seq2[icols-1] + align1\n",
    "        align2 = seq1[irows-1] + align2\n",
    "        irows -= 1\n",
    "        icols -=1\n",
    "    \n",
    "    # once you hit the initialized first row/column\n",
    "    elif T[irows,icols] == 0:\n",
    "        if irows == 0:\n",
    "            while icols != 0:\n",
    "                align1 = seq2[icols-1] + align1\n",
    "                align2 = \"-\" + align2\n",
    "                icols -= 1\n",
    "        if icols == 0:\n",
    "            while irows != 0:\n",
    "                align1 = \"-\" + align1\n",
    "                align2 = seq1[irows-1] + align2\n",
    "                irows -= 1\n",
    "\n",
    "print(align1)\n",
    "print(align2)\n",
    "\n",
    "print(\"Alignment score: \" + str(F[len(seq1),len(seq2)]))"
   ]
  },
  {
   "cell_type": "code",
   "execution_count": null,
   "metadata": {},
   "outputs": [],
   "source": []
  }
 ],
 "metadata": {
  "kernelspec": {
   "display_name": "Python 3",
   "language": "python",
   "name": "python3"
  },
  "language_info": {
   "codemirror_mode": {
    "name": "ipython",
    "version": 3
   },
   "file_extension": ".py",
   "mimetype": "text/x-python",
   "name": "python",
   "nbconvert_exporter": "python",
   "pygments_lexer": "ipython3",
   "version": "3.6.7"
  }
 },
 "nbformat": 4,
 "nbformat_minor": 2
}
