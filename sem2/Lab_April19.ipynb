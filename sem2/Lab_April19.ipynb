{
 "cells": [
  {
   "cell_type": "markdown",
   "metadata": {},
   "source": [
    "# Biophysics Lab - 4/19/2019 (single-molecule FRET)\n",
    "\n",
    "## Author: Stephanie M. Yan"
   ]
  },
  {
   "cell_type": "code",
   "execution_count": 3,
   "metadata": {},
   "outputs": [],
   "source": [
    "import pandas as pd\n",
    "import numpy as np\n",
    "import matplotlib.pyplot as plt"
   ]
  },
  {
   "cell_type": "markdown",
   "metadata": {},
   "source": [
    "## 1. Assuming an R_0 value of 6nm, calculate the distance between FRET pairs for each molecule in the ensemble. Plot the resulting distribution as a histogram."
   ]
  },
  {
   "cell_type": "code",
   "execution_count": 5,
   "metadata": {},
   "outputs": [
    {
     "data": {
      "text/plain": [
       "Text(0,0.5,'Number of FRET pairs')"
      ]
     },
     "execution_count": 5,
     "metadata": {},
     "output_type": "execute_result"
    },
    {
     "data": {
      "image/png": "[encoded data removed]",
      "text/plain": [
       "<Figure size 432x288 with 1 Axes>"
      ]
     },
     "metadata": {},
     "output_type": "display_data"
    }
   ],
   "source": [
    "df = pd.read_table(\"/Users/cmdb/Documents/Classes/Biophysics/xid-79493606_2.txt\", header=None, names=[\"rvals\"])\n",
    "\n",
    "# r values for each molecule\n",
    "rvals = df[\"rvals\"].tolist()\n",
    "\n",
    "fig, ax = plt.subplots()\n",
    "ax.hist(rvals, bins=50)\n",
    "ax.set_title(\"Distribution of distances between FRET pairs\")\n",
    "ax.set_xlabel(\"Distance (nm)\")\n",
    "ax.set_ylabel(\"Number of FRET pairs\")"
   ]
  },
  {
   "cell_type": "markdown",
   "metadata": {},
   "source": [
    "## 2. Model the resulting distribution as a pair of Gaussian distributions.\n",
    "\n",
    "### a.\tWhat fraction of your molecules are in the folded state? "
   ]
  },
  {
   "cell_type": "code",
   "execution_count": 7,
   "metadata": {},
   "outputs": [
    {
     "name": "stdout",
     "output_type": "stream",
     "text": [
      "Fraction of molecules in folded state = 0.7927967664968633\n",
      "Fraction of molecules in unfolded state = 0.20720323350313807\n"
     ]
    }
   ],
   "source": [
    "from sklearn.mixture import GaussianMixture\n",
    "\n",
    "rvals_array = np.asarray(rvals)\n",
    "rvals_array = rvals_array.reshape(-1, 1)\n",
    "\n",
    "# initialize Gaussian mixture model for a pair of Gaussian distributions\n",
    "gmm = GaussianMixture(n_components=2,covariance_type=\"spherical\")\n",
    "# fit model to data\n",
    "gmm_out = gmm.fit(rvals_array)\n",
    "\n",
    "# weights_ gives you the % of molecules in either state\n",
    "folded = gmm_out.weights_[0]\n",
    "unfolded = gmm_out.weights_[1]\n",
    "\n",
    "print(\"Fraction of molecules in folded state = \" + str(folded))\n",
    "print(\"Fraction of molecules in unfolded state = \" + str(unfolded))"
   ]
  },
  {
   "cell_type": "markdown",
   "metadata": {},
   "source": [
    "### b. How far apart are the donor and acceptor in the folded state and unfolded state?"
   ]
  },
  {
   "cell_type": "code",
   "execution_count": 8,
   "metadata": {},
   "outputs": [
    {
     "name": "stdout",
     "output_type": "stream",
     "text": [
      "Distance between molecules in folded state = [3.99884392]nm\n",
      "Distance between molecules in unfolded state = [9.00321577]nm\n"
     ]
    }
   ],
   "source": [
    "# means_ gives you mean value (in this case distance) of each distribution\n",
    "distance_folded = gmm_out.means_[0]\n",
    "distance_unfolded = gmm_out.means_[1]\n",
    "\n",
    "print(\"Distance between molecules in folded state = \" + str(distance_folded) + \"nm\")\n",
    "print(\"Distance between molecules in unfolded state = \" + str(distance_unfolded) + \"nm\")"
   ]
  },
  {
   "cell_type": "markdown",
   "metadata": {},
   "source": [
    "### c. What is the K of unfolding?"
   ]
  },
  {
   "cell_type": "code",
   "execution_count": 9,
   "metadata": {},
   "outputs": [
    {
     "name": "stdout",
     "output_type": "stream",
     "text": [
      "k = 0.2613573140802636\n"
     ]
    }
   ],
   "source": [
    "kval = unfolded/folded\n",
    "print(\"k = \" + str(kval))"
   ]
  },
  {
   "cell_type": "markdown",
   "metadata": {},
   "source": [
    "### d. Assuming a temperature of 23 C, calculate ΔG_D."
   ]
  },
  {
   "cell_type": "code",
   "execution_count": 48,
   "metadata": {},
   "outputs": [
    {
     "name": "stdout",
     "output_type": "stream",
     "text": [
      "deltaGd = 0.7896215787553167 kcal/mol\n"
     ]
    }
   ],
   "source": [
    "R = 1.987 * 10**(-3)\n",
    "temp = 296.15 #Kelvin, or 23C\n",
    "\n",
    "delGd = (-1) * np.log(kval) * R * temp\n",
    "\n",
    "print(\"deltaGd = \" + str(delGd) + \" kcal/mol\")"
   ]
  }
 ],
 "metadata": {
  "kernelspec": {
   "display_name": "Python 3",
   "language": "python",
   "name": "python3"
  },
  "language_info": {
   "codemirror_mode": {
    "name": "ipython",
    "version": 3
   },
   "file_extension": ".py",
   "mimetype": "text/x-python",
   "name": "python",
   "nbconvert_exporter": "python",
   "pygments_lexer": "ipython3",
   "version": "3.6.7"
  }
 },
 "nbformat": 4,
 "nbformat_minor": 2
}
